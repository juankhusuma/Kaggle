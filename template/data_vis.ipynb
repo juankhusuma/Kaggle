{
 "cells": [
  {
   "attachments": {},
   "cell_type": "markdown",
   "metadata": {},
   "source": [
    "# Notebook Template Setup"
   ]
  },
  {
   "cell_type": "code",
   "execution_count": 1,
   "metadata": {},
   "outputs": [
    {
     "name": "stdout",
     "output_type": "stream",
     "text": [
      "Setup Complete\n"
     ]
    }
   ],
   "source": [
    "import pandas as pd\n",
    "pd.plotting.register_matplotlib_converters()\n",
    "import matplotlib.pyplot as plt\n",
    "%matplotlib inline\n",
    "import seaborn as sns\n",
    "print(\"Setup Complete\")"
   ]
  },
  {
   "attachments": {},
   "cell_type": "markdown",
   "metadata": {},
   "source": [
    "## Loading Data"
   ]
  },
  {
   "cell_type": "code",
   "execution_count": 3,
   "metadata": {},
   "outputs": [],
   "source": [
    "data = pd.read_csv(\"./cancer.csv\")"
   ]
  },
  {
   "attachments": {},
   "cell_type": "markdown",
   "metadata": {},
   "source": [
    "### Data Pre-Processing"
   ]
  },
  {
   "cell_type": "code",
   "execution_count": 7,
   "metadata": {},
   "outputs": [],
   "source": [
    "def normalize(series: pd.Series) -> pd.Series:\n",
    "    return series / series.abs().max()"
   ]
  },
  {
   "cell_type": "code",
   "execution_count": 10,
   "metadata": {},
   "outputs": [],
   "source": [
    "data[\"Diagnosis\"] = data[\"Diagnosis\"].apply(lambda d: 1 if d == \"M\" else 0)"
   ]
  },
  {
   "cell_type": "code",
   "execution_count": 12,
   "metadata": {},
   "outputs": [],
   "source": [
    "for col in data.columns:\n",
    "    if col != \"Diagnosis\":\n",
    "        data[col] = normalize(data[col])"
   ]
  },
  {
   "cell_type": "code",
   "execution_count": 26,
   "metadata": {},
   "outputs": [],
   "source": [
    "data = data.drop(axis=1, labels=[\"Id\"])"
   ]
  },
  {
   "cell_type": "code",
   "execution_count": 27,
   "metadata": {},
   "outputs": [
    {
     "data": {
      "text/html": [
       "<div>\n",
       "<style scoped>\n",
       "    .dataframe tbody tr th:only-of-type {\n",
       "        vertical-align: middle;\n",
       "    }\n",
       "\n",
       "    .dataframe tbody tr th {\n",
       "        vertical-align: top;\n",
       "    }\n",
       "\n",
       "    .dataframe thead th {\n",
       "        text-align: right;\n",
       "    }\n",
       "</style>\n",
       "<table border=\"1\" class=\"dataframe\">\n",
       "  <thead>\n",
       "    <tr style=\"text-align: right;\">\n",
       "      <th></th>\n",
       "      <th>Diagnosis</th>\n",
       "      <th>Radius (mean)</th>\n",
       "      <th>Texture (mean)</th>\n",
       "      <th>Perimeter (mean)</th>\n",
       "      <th>Area (mean)</th>\n",
       "      <th>Smoothness (mean)</th>\n",
       "      <th>Compactness (mean)</th>\n",
       "      <th>Concavity (mean)</th>\n",
       "      <th>Concave points (mean)</th>\n",
       "      <th>Symmetry (mean)</th>\n",
       "      <th>...</th>\n",
       "      <th>Radius (worst)</th>\n",
       "      <th>Texture (worst)</th>\n",
       "      <th>Perimeter (worst)</th>\n",
       "      <th>Area (worst)</th>\n",
       "      <th>Smoothness (worst)</th>\n",
       "      <th>Compactness (worst)</th>\n",
       "      <th>Concavity (worst)</th>\n",
       "      <th>Concave points (worst)</th>\n",
       "      <th>Symmetry (worst)</th>\n",
       "      <th>Fractal dimension (worst)</th>\n",
       "    </tr>\n",
       "  </thead>\n",
       "  <tbody>\n",
       "    <tr>\n",
       "      <th>0</th>\n",
       "      <td>0</td>\n",
       "      <td>0.481679</td>\n",
       "      <td>0.365580</td>\n",
       "      <td>0.463979</td>\n",
       "      <td>0.226429</td>\n",
       "      <td>0.598470</td>\n",
       "      <td>0.235350</td>\n",
       "      <td>0.156139</td>\n",
       "      <td>0.237624</td>\n",
       "      <td>0.620066</td>\n",
       "      <td>...</td>\n",
       "      <td>0.419256</td>\n",
       "      <td>0.388777</td>\n",
       "      <td>0.396895</td>\n",
       "      <td>0.167184</td>\n",
       "      <td>0.646900</td>\n",
       "      <td>0.167580</td>\n",
       "      <td>0.190895</td>\n",
       "      <td>0.442612</td>\n",
       "      <td>0.448478</td>\n",
       "      <td>0.349831</td>\n",
       "    </tr>\n",
       "    <tr>\n",
       "      <th>1</th>\n",
       "      <td>0</td>\n",
       "      <td>0.465315</td>\n",
       "      <td>0.399949</td>\n",
       "      <td>0.454271</td>\n",
       "      <td>0.207917</td>\n",
       "      <td>0.657895</td>\n",
       "      <td>0.367690</td>\n",
       "      <td>0.107029</td>\n",
       "      <td>0.154573</td>\n",
       "      <td>0.647039</td>\n",
       "      <td>...</td>\n",
       "      <td>0.402331</td>\n",
       "      <td>0.413605</td>\n",
       "      <td>0.382524</td>\n",
       "      <td>0.148213</td>\n",
       "      <td>0.589398</td>\n",
       "      <td>0.262382</td>\n",
       "      <td>0.150958</td>\n",
       "      <td>0.250275</td>\n",
       "      <td>0.479663</td>\n",
       "      <td>0.394361</td>\n",
       "    </tr>\n",
       "    <tr>\n",
       "      <th>2</th>\n",
       "      <td>0</td>\n",
       "      <td>0.338100</td>\n",
       "      <td>0.316701</td>\n",
       "      <td>0.320106</td>\n",
       "      <td>0.109516</td>\n",
       "      <td>0.626683</td>\n",
       "      <td>0.187956</td>\n",
       "      <td>0.069260</td>\n",
       "      <td>0.103181</td>\n",
       "      <td>0.597039</td>\n",
       "      <td>...</td>\n",
       "      <td>0.283851</td>\n",
       "      <td>0.316108</td>\n",
       "      <td>0.259275</td>\n",
       "      <td>0.074024</td>\n",
       "      <td>0.594789</td>\n",
       "      <td>0.108507</td>\n",
       "      <td>0.070823</td>\n",
       "      <td>0.213986</td>\n",
       "      <td>0.369087</td>\n",
       "      <td>0.374602</td>\n",
       "    </tr>\n",
       "    <tr>\n",
       "      <th>3</th>\n",
       "      <td>0</td>\n",
       "      <td>0.463536</td>\n",
       "      <td>0.468941</td>\n",
       "      <td>0.438249</td>\n",
       "      <td>0.209436</td>\n",
       "      <td>0.549755</td>\n",
       "      <td>0.109033</td>\n",
       "      <td>0.060028</td>\n",
       "      <td>0.145278</td>\n",
       "      <td>0.482566</td>\n",
       "      <td>...</td>\n",
       "      <td>0.369034</td>\n",
       "      <td>0.460436</td>\n",
       "      <td>0.336226</td>\n",
       "      <td>0.128326</td>\n",
       "      <td>0.435804</td>\n",
       "      <td>0.043658</td>\n",
       "      <td>0.038602</td>\n",
       "      <td>0.172268</td>\n",
       "      <td>0.299337</td>\n",
       "      <td>0.297301</td>\n",
       "    </tr>\n",
       "    <tr>\n",
       "      <th>4</th>\n",
       "      <td>0</td>\n",
       "      <td>0.291569</td>\n",
       "      <td>0.428717</td>\n",
       "      <td>0.274324</td>\n",
       "      <td>0.080728</td>\n",
       "      <td>0.526316</td>\n",
       "      <td>0.172061</td>\n",
       "      <td>0.037207</td>\n",
       "      <td>0.029409</td>\n",
       "      <td>0.581908</td>\n",
       "      <td>...</td>\n",
       "      <td>0.248724</td>\n",
       "      <td>0.443278</td>\n",
       "      <td>0.227946</td>\n",
       "      <td>0.056935</td>\n",
       "      <td>0.582659</td>\n",
       "      <td>0.128261</td>\n",
       "      <td>0.054952</td>\n",
       "      <td>0.088110</td>\n",
       "      <td>0.467761</td>\n",
       "      <td>0.357060</td>\n",
       "    </tr>\n",
       "  </tbody>\n",
       "</table>\n",
       "<p>5 rows × 31 columns</p>\n",
       "</div>"
      ],
      "text/plain": [
       "   Diagnosis  Radius (mean)  Texture (mean)  Perimeter (mean)  Area (mean)  \\\n",
       "0          0       0.481679        0.365580          0.463979     0.226429   \n",
       "1          0       0.465315        0.399949          0.454271     0.207917   \n",
       "2          0       0.338100        0.316701          0.320106     0.109516   \n",
       "3          0       0.463536        0.468941          0.438249     0.209436   \n",
       "4          0       0.291569        0.428717          0.274324     0.080728   \n",
       "\n",
       "   Smoothness (mean)  Compactness (mean)  Concavity (mean)  \\\n",
       "0           0.598470            0.235350          0.156139   \n",
       "1           0.657895            0.367690          0.107029   \n",
       "2           0.626683            0.187956          0.069260   \n",
       "3           0.549755            0.109033          0.060028   \n",
       "4           0.526316            0.172061          0.037207   \n",
       "\n",
       "   Concave points (mean)  Symmetry (mean)  ...  Radius (worst)  \\\n",
       "0               0.237624         0.620066  ...        0.419256   \n",
       "1               0.154573         0.647039  ...        0.402331   \n",
       "2               0.103181         0.597039  ...        0.283851   \n",
       "3               0.145278         0.482566  ...        0.369034   \n",
       "4               0.029409         0.581908  ...        0.248724   \n",
       "\n",
       "   Texture (worst)  Perimeter (worst)  Area (worst)  Smoothness (worst)  \\\n",
       "0         0.388777           0.396895      0.167184            0.646900   \n",
       "1         0.413605           0.382524      0.148213            0.589398   \n",
       "2         0.316108           0.259275      0.074024            0.594789   \n",
       "3         0.460436           0.336226      0.128326            0.435804   \n",
       "4         0.443278           0.227946      0.056935            0.582659   \n",
       "\n",
       "   Compactness (worst)  Concavity (worst)  Concave points (worst)  \\\n",
       "0             0.167580           0.190895                0.442612   \n",
       "1             0.262382           0.150958                0.250275   \n",
       "2             0.108507           0.070823                0.213986   \n",
       "3             0.043658           0.038602                0.172268   \n",
       "4             0.128261           0.054952                0.088110   \n",
       "\n",
       "   Symmetry (worst)  Fractal dimension (worst)  \n",
       "0          0.448478                   0.349831  \n",
       "1          0.479663                   0.394361  \n",
       "2          0.369087                   0.374602  \n",
       "3          0.299337                   0.297301  \n",
       "4          0.467761                   0.357060  \n",
       "\n",
       "[5 rows x 31 columns]"
      ]
     },
     "execution_count": 27,
     "metadata": {},
     "output_type": "execute_result"
    }
   ],
   "source": [
    "data.head()"
   ]
  },
  {
   "cell_type": "code",
   "execution_count": 39,
   "metadata": {},
   "outputs": [
    {
     "data": {
      "text/plain": [
       "<AxesSubplot: xlabel='Compactness (mean)', ylabel='Area (mean)'>"
      ]
     },
     "execution_count": 39,
     "metadata": {},
     "output_type": "execute_result"
    },
    {
     "data": {
      "image/png": "[encoded data removed]",
      "text/plain": [
       "<Figure size 1600x800 with 1 Axes>"
      ]
     },
     "metadata": {},
     "output_type": "display_data"
    }
   ],
   "source": [
    "plt.figure(figsize=(16, 8))\n",
    "# data[]\n",
    "sns.scatterplot(y=data[\"Area (mean)\"], x=data[\"Compactness (mean)\"])"
   ]
  }
 ],
 "metadata": {
  "kernelspec": {
   "display_name": "arkav",
   "language": "python",
   "name": "python3"
  },
  "language_info": {
   "codemirror_mode": {
    "name": "ipython",
    "version": 3
   },
   "file_extension": ".py",
   "mimetype": "text/x-python",
   "name": "python",
   "nbconvert_exporter": "python",
   "pygments_lexer": "ipython3",
   "version": "3.10.8 | packaged by conda-forge | (main, Nov 24 2022, 14:07:00) [MSC v.1916 64 bit (AMD64)]"
  },
  "orig_nbformat": 4,
  "vscode": {
   "interpreter": {
    "hash": "70e172074d882315c8bcc6cdc4affd4a6837391d7c4ee6437f769539701793c6"
   }
  }
 },
 "nbformat": 4,
 "nbformat_minor": 2
}
